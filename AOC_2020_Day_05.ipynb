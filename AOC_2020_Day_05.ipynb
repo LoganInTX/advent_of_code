{
 "cells": [
  {
   "cell_type": "code",
   "execution_count": 33,
   "metadata": {},
   "outputs": [],
   "source": [
    "tickets = ['BFBFFBBRLR','FBFBFFBRLL','BFBFBFFRLR','BFFBFBFRLL','FFBFFFBRLL','BFBFFFFLRR']\n",
    "rows = [_ for _ in range(128)]\n",
    "seats = [_ for _ in range(8)]"
   ]
  },
  {
   "cell_type": "code",
   "execution_count": 34,
   "metadata": {},
   "outputs": [],
   "source": [
    "def find_seat(ticket: str) -> tuple:\n",
    "    row = int(ticket[0:7].replace('F', '0').replace('B', '1'), 2)\n",
    "    seat = int(ticket[7:].replace('L', '0').replace('R', '1'), 2)\n",
    "    return (row, seat)"
   ]
  },
  {
   "cell_type": "code",
   "execution_count": 38,
   "metadata": {},
   "outputs": [
    {
     "name": "stdout",
     "output_type": "stream",
     "text": [
      "Part 1: 826\n"
     ]
    }
   ],
   "source": [
    "seat_ids = [find_seat(ticket) for ticket in tickets]\n",
    "max_seat_id = max([(r * 8) + s for r, s in seat_ids])\n",
    "print(f'Part 1: {max_seat_id}')"
   ]
  },
  {
   "cell_type": "code",
   "execution_count": 80,
   "metadata": {},
   "outputs": [],
   "source": [
    "ticket_t = sorted([(ticket[0:7], ticket[7:]) for ticket in tickets])\n",
    "ticket_t2 = [ticket for ticket in ticket_t if ticket[0] not in (ticket_t[0][0], ticket_t[len(ticket_t) - 1][0])]"
   ]
  },
  {
   "cell_type": "code",
   "execution_count": 108,
   "metadata": {},
   "outputs": [],
   "source": [
    "from collections import Counter\n",
    "my_rows = dict(Counter(ticket[0] for ticket in ticket_t2))\n",
    "my_row = [k for k, v in my_rows.items() if v < 8]\n",
    "my_seats = [ticket for ticket in ticket_t2 if ticket[0] == my_row[0]]"
   ]
  },
  {
   "cell_type": "code",
   "execution_count": 117,
   "metadata": {},
   "outputs": [],
   "source": [
    "def row_num(seat_code: str) -> int:\n",
    "    return int(seat_code.replace('F', '0').replace('B', '1'), 2)\n",
    "def seat_num(seat_code: str) -> int:\n",
    "    return int(seat_code.replace('L', '0').replace('R', '1'), 2)"
   ]
  },
  {
   "cell_type": "code",
   "execution_count": 118,
   "metadata": {},
   "outputs": [],
   "source": [
    "my_seat = sum(_ for _ in range(8)) - sum([seat_num(s[1]) for s in my_seats])"
   ]
  },
  {
   "cell_type": "code",
   "execution_count": 126,
   "metadata": {},
   "outputs": [
    {
     "name": "stdout",
     "output_type": "stream",
     "text": [
      " Part 2: 678\n"
     ]
    }
   ],
   "source": [
    "print(f' Part 2: {(row_num(my_row[0]) * 8) + my_seat}')"
   ]
  }
 ],
 "metadata": {
  "kernelspec": {
   "display_name": "Python 3",
   "language": "python",
   "name": "python3"
  },
  "language_info": {
   "codemirror_mode": {
    "name": "ipython",
    "version": 3
   },
   "file_extension": ".py",
   "mimetype": "text/x-python",
   "name": "python",
   "nbconvert_exporter": "python",
   "pygments_lexer": "ipython3",
   "version": "3.9.0+"
  }
 },
 "nbformat": 4,
 "nbformat_minor": 4
}
