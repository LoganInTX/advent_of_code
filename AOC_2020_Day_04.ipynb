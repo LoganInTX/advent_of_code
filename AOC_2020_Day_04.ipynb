{
 "cells": [
  {
   "cell_type": "code",
   "execution_count": 94,
   "metadata": {},
   "outputs": [],
   "source": [
    "batch = '''iyr:2015\n",
    "hgt:59cm byr:2029 cid:219 pid:9381688753 eyr:1992 hcl:#b6652a\n",
    "ecl:#7a0fa6\n",
    "\n",
    "ecl:blu iyr:2018 pid:943614755 cid:335\n",
    "byr:1968\n",
    "eyr:2026\n",
    "\n",
    "pid:067285985 hcl:#ceb3a1 cid:281\n",
    "ecl:#07219a eyr:1944\n",
    "iyr:2025\n",
    "byr:2029 hgt:64cm\n",
    "\n",
    "hgt:185cm\n",
    "ecl:gry cid:222\n",
    "iyr:2016\n",
    "hcl:#866857 byr:1970 pid:269105457 eyr:2026'''"
   ]
  },
  {
   "cell_type": "code",
   "execution_count": 95,
   "metadata": {},
   "outputs": [
    {
     "name": "stdout",
     "output_type": "stream",
     "text": [
      "Part 1: 210\n"
     ]
    }
   ],
   "source": [
    "valid = {\"byr\",\"iyr\",\"eyr\",\"hgt\",\"hcl\",\"ecl\",\"pid\"}\n",
    "creds = list(map(lambda st: st.replace('\\n', ' '), batch.split('\\n\\n')))\n",
    "creds2 = [dict([(y.split(':')[0], y.split(':')[1]) for y in x.split(' ') if y.split(':')[0] != 'cid']) for x in creds]\n",
    "print(f'Part 1: {sum([1 for x in creds2 if set(x) == set(valid)])}')"
   ]
  },
  {
   "cell_type": "code",
   "execution_count": 98,
   "metadata": {},
   "outputs": [],
   "source": [
    "valid_eye_colors = ['amb','blu','brn','gry','grn','hzl','oth']\n",
    "def is_hex_color(color: str) -> bool:\n",
    "    import re\n",
    "    return bool(re.compile(r'#[a-fA-F0-9]{6}$').match(color))\n",
    "    \n",
    "def valid_cred(cred: dict) -> bool:\n",
    "    if not (1919 < int(cred.get('byr', 0)) < 2003) or not (len(cred.get('byr', '')) == 4):\n",
    "        return False\n",
    "    \n",
    "    if not (2009 < int(cred.get('iyr', 0)) < 2021) or not (len(cred.get('iyr', '')) == 4):\n",
    "        return False\n",
    "    \n",
    "    if not (2019 < int(cred.get('eyr', 0)) < 2031) or not (len(cred.get('eyr', '')) == 4):\n",
    "        return False\n",
    "    \n",
    "    if cred.get('ecl', '') not in valid_eye_colors:\n",
    "        return False\n",
    "    \n",
    "    if not cred.get('pid', '').isdigit() or len(cred.get('pid', '')) != 9:\n",
    "        return False\n",
    "    \n",
    "    if 'cm' not in cred.get('hgt', '') and 'in' not in cred.get('hgt', ''):\n",
    "        return False\n",
    "    \n",
    "    if 'cm' in cred.get('hgt', ''):\n",
    "        if not (149 < int(cred.get('hgt', 0).replace('cm', '')) < 194):\n",
    "            return False\n",
    "    \n",
    "    if 'in' in cred.get('hgt', ''):\n",
    "        if not (58 < int(cred.get('hgt', 0).replace('in', '')) < 77):\n",
    "            return False\n",
    "    \n",
    "    if not is_hex_color(cred.get('hcl', '')):\n",
    "        return False\n",
    "    \n",
    "    return True"
   ]
  },
  {
   "cell_type": "code",
   "execution_count": 99,
   "metadata": {},
   "outputs": [
    {
     "name": "stdout",
     "output_type": "stream",
     "text": [
      "Part 2: 131\n"
     ]
    }
   ],
   "source": [
    "print(f'Part 2: {sum([valid_cred(x) for x in creds2])}')"
   ]
  },
  {
   "cell_type": "code",
   "execution_count": null,
   "metadata": {},
   "outputs": [],
   "source": []
  }
 ],
 "metadata": {
  "kernelspec": {
   "display_name": "Python 3",
   "language": "python",
   "name": "python3"
  },
  "language_info": {
   "codemirror_mode": {
    "name": "ipython",
    "version": 3
   },
   "file_extension": ".py",
   "mimetype": "text/x-python",
   "name": "python",
   "nbconvert_exporter": "python",
   "pygments_lexer": "ipython3",
   "version": "3.9.0+"
  }
 },
 "nbformat": 4,
 "nbformat_minor": 4
}
