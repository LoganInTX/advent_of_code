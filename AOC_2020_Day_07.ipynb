{
 "cells": [
  {
   "cell_type": "code",
   "execution_count": 311,
   "metadata": {},
   "outputs": [],
   "source": [
    "bags = '''light red bags contain 1 bright white bag, 2 muted yellow bags.\n",
    "dark orange bags contain 3 bright white bags, 4 muted yellow bags.\n",
    "bright white bags contain 1 shiny gold bag.\n",
    "muted yellow bags contain 2 shiny gold bags, 9 faded blue bags.\n",
    "shiny gold bags contain 1 dark olive bag, 2 vibrant plum bags.\n",
    "dark olive bags contain 3 faded blue bags, 4 dotted black bags.\n",
    "vibrant plum bags contain 5 faded blue bags, 6 dotted black bags.\n",
    "faded blue bags contain no other bags.\n",
    "dotted black bags contain no other bags.'''"
   ]
  },
  {
   "cell_type": "code",
   "execution_count": 312,
   "metadata": {},
   "outputs": [],
   "source": [
    "def get_bag_details(bag_line: str) -> dict:\n",
    "    bag_line_parts = bag_line.split('bags contain')\n",
    "    bag_type = bag_line_parts[0].strip()\n",
    "    bag_contents = bag_line_parts[1].strip().split(',')\n",
    "    bag_contents = [[bag_detail for bag_detail in bag_content.strip().split(' ')] for bag_content in bag_contents if bag_content != 'no other bags.']\n",
    "    bag_contents2 = [{x[1] + ' ' + x[2]:x[0]} for x in bag_contents]\n",
    "    bag_details = {bag_type: bag_contents2}\n",
    "    return bag_details"
   ]
  },
  {
   "cell_type": "code",
   "execution_count": 313,
   "metadata": {},
   "outputs": [],
   "source": [
    "bags_details = {}\n",
    "for bag_line in bags.split('\\n'):\n",
    "    bags_details.update(get_bag_details(bag_line))\n",
    "# print(bags_details)"
   ]
  },
  {
   "cell_type": "code",
   "execution_count": 314,
   "metadata": {},
   "outputs": [],
   "source": [
    "def in_bag(bags_details: dict, bag_color: str, bag_to_find: str) -> str:\n",
    "    for bag_detail in bags_details.get(bag_color):\n",
    "        if bag_detail.get(bag_to_find): return True\n",
    "        return in_bag(bags_details, list(bag_detail.keys())[0], bag_to_find)\n",
    "    return False"
   ]
  },
  {
   "cell_type": "code",
   "execution_count": 315,
   "metadata": {},
   "outputs": [
    {
     "name": "stdout",
     "output_type": "stream",
     "text": [
      "Part 1: 4\n",
      "['light red', 'dark orange', 'bright white', 'muted yellow']\n"
     ]
    }
   ],
   "source": [
    "total_bags = []\n",
    "for bag_detail in bags_details.keys():\n",
    "    if in_bag(bags_details, bag_detail, 'shiny gold'):\n",
    "        total_bags.append(bag_detail)\n",
    "print(f'Part 1: {len(total_bags)}')\n",
    "print(total_bags)"
   ]
  },
  {
   "cell_type": "code",
   "execution_count": 337,
   "metadata": {},
   "outputs": [],
   "source": [
    "def in_bag2(bags_details: dict, bag_color: str, bag_to_find: str, bag_colors=None) -> list:\n",
    "    if not bag_colors:\n",
    "        bag_colors = []\n",
    "    bag_colors.append(bag_color)\n",
    "    print(f'Checking Bag: {bag_color}')\n",
    "    print(bags_details.get(bag_color))\n",
    "    for bag_detail in bags_details.get(bag_color):\n",
    "        x = list(bag_detail.keys())[0]\n",
    "        bag_colors.append(x)\n",
    "        if bag_detail.get(bag_to_find):\n",
    "            return bag_colors\n",
    "            return in_bag2(bags_details, x, bag_to_find, bag_colors)\n",
    "    return bag_colors"
   ]
  },
  {
   "cell_type": "code",
   "execution_count": 338,
   "metadata": {},
   "outputs": [
    {
     "name": "stdout",
     "output_type": "stream",
     "text": [
      "Checking Bag: light red\n",
      "[{'bright white': '1'}, {'muted yellow': '2'}]\n",
      "Checking Bag: dark orange\n",
      "[{'bright white': '3'}, {'muted yellow': '4'}]\n",
      "Checking Bag: bright white\n",
      "[{'shiny gold': '1'}]\n",
      "Checking Bag: shiny gold\n",
      "[{'dark olive': '1'}, {'vibrant plum': '2'}]\n",
      "Checking Bag: muted yellow\n",
      "[{'shiny gold': '2'}, {'faded blue': '9'}]\n",
      "Checking Bag: shiny gold\n",
      "[{'dark olive': '1'}, {'vibrant plum': '2'}]\n",
      "Checking Bag: shiny gold\n",
      "[{'dark olive': '1'}, {'vibrant plum': '2'}]\n",
      "Checking Bag: dark olive\n",
      "[{'faded blue': '3'}, {'dotted black': '4'}]\n",
      "Checking Bag: vibrant plum\n",
      "[{'faded blue': '5'}, {'dotted black': '6'}]\n",
      "Checking Bag: faded blue\n",
      "[]\n",
      "Checking Bag: dotted black\n",
      "[]\n",
      "Part 1: 9\n",
      "['light red', 'dark orange', 'bright white', 'shiny gold', 'shiny gold', 'muted yellow', 'shiny gold', 'shiny gold', 'shiny gold', 'dark olive', 'vibrant plum', 'faded blue', 'dotted black']\n",
      "{'vibrant plum', 'shiny gold', 'muted yellow', 'dark olive', 'bright white', 'dotted black', 'faded blue', 'light red', 'dark orange'}\n"
     ]
    }
   ],
   "source": [
    "total_bags = []\n",
    "for bag_detail in bags_details.keys():\n",
    "    total_bags.extend(in_bag2(bags_details, bag_detail, 'shiny gold'))\n",
    "print(f'Part 1: {len(set(total_bags))}')\n",
    "print(total_bags)\n",
    "print(set(total_bags))\n"
   ]
  },
  {
   "cell_type": "code",
   "execution_count": null,
   "metadata": {},
   "outputs": [],
   "source": []
  },
  {
   "cell_type": "code",
   "execution_count": null,
   "metadata": {},
   "outputs": [],
   "source": []
  }
 ],
 "metadata": {
  "kernelspec": {
   "display_name": "Python 3",
   "language": "python",
   "name": "python3"
  },
  "language_info": {
   "codemirror_mode": {
    "name": "ipython",
    "version": 3
   },
   "file_extension": ".py",
   "mimetype": "text/x-python",
   "name": "python",
   "nbconvert_exporter": "python",
   "pygments_lexer": "ipython3",
   "version": "3.9.0+"
  }
 },
 "nbformat": 4,
 "nbformat_minor": 4
}
